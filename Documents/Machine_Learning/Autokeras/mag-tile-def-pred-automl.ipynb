{
 "cells": [
  {
   "cell_type": "markdown",
   "metadata": {},
   "source": [
    "**Importing Library**"
   ]
  },
  {
   "cell_type": "code",
   "execution_count": 1,
   "metadata": {},
   "outputs": [],
   "source": [
    "import autokeras as ak\n",
    "from tensorflow import keras\n",
    "import tensorflow as tf\n",
    "import cv2\n",
    "import glob\n",
    "import numpy as np\n",
    "import os\n",
    "import pandas as pd"
   ]
  },
  {
   "cell_type": "markdown",
   "metadata": {},
   "source": [
    "**Preparing data**"
   ]
  },
  {
   "cell_type": "code",
   "execution_count": 2,
   "metadata": {},
   "outputs": [
    {
     "name": "stdout",
     "output_type": "stream",
     "text": [
      "X_train shape: (2518, 128, 128, 3)\n",
      "X_test shape: (163, 128, 128, 3)\n",
      "(2518,)\n",
      "(163,)\n"
     ]
    }
   ],
   "source": [
    "X_train = []\n",
    "files = glob.glob (\"dataset/train_mag/*.jpg\")\n",
    "for myFile in files:\n",
    "    #print(myFile)\n",
    "    image = cv2.imread (myFile)\n",
    "    X_train.append (image)\n",
    "X_train = np.array(X_train)\n",
    "print('X_train shape:', np.array(X_train).shape)\n",
    "\n",
    "X_test = []\n",
    "files = glob.glob (\"dataset/test_mag/*.jpg\")\n",
    "for myFile in files:\n",
    "    #print(myFile)\n",
    "    image = cv2.imread (myFile)\n",
    "    X_test.append (image)\n",
    "X_test = np.array(X_test)\n",
    "print('X_test shape:', np.array(X_test).shape)\n",
    "\n",
    "df = pd.read_csv(\"dataset/train_mag.csv\")\n",
    "Y_train = df.values[:,1]\n",
    "print(Y_train.shape)\n",
    "\n",
    "df1 = pd.read_csv(\"dataset/test_mag.csv\")\n",
    "Y_test = df1.values[:,1]\n",
    "print(Y_test.shape)"
   ]
  },
  {
   "cell_type": "code",
   "execution_count": 3,
   "metadata": {},
   "outputs": [
    {
     "name": "stdout",
     "output_type": "stream",
     "text": [
      "Trial 6 Complete [01h 18m 10s]\n",
      "val_loss: 3.662950277328491\n",
      "\n",
      "Best val_loss So Far: 1.2244194746017456\n",
      "Total elapsed time: 05h 47m 50s\n",
      "\n",
      "Search: Running Trial #7\n",
      "\n",
      "Hyperparameter      |Value     |Best Value So Far   \n",
      "image_block_1/normalize|True      |True                \n",
      "image_block_1/augment|True      |True                \n",
      "image_block_1/block_type|resnet    |resnet              \n",
      "image_block_1/res_net_block_1/pretrained|True      |True                \n",
      "image_block_1/res_net_block_1/version|resnet50  |resnet50            \n",
      "image_block_1/res_net_block_1/imagenet_size|True      |True                \n",
      "classification_head_1/spatial_reduction_1/reduction_type|global_avg|global_avg          \n",
      "classification_head_1/dropout|0         |0                   \n",
      "optimizer           |adam      |adam                \n",
      "learning_rate       |1e-05     |1e-05               \n",
      "image_block_1/image_augmentation_1/translation_factor|0.1       |0.1                 \n",
      "image_block_1/image_augmentation_1/horizontal_flip|True      |True                \n",
      "image_block_1/image_augmentation_1/vertical_flip|False     |False               \n",
      "image_block_1/image_augmentation_1/rotation_factor|0.1       |0.0                 \n",
      "image_block_1/image_augmentation_1/zoom_factor|0.0       |0.0                 \n",
      "image_block_1/image_augmentation_1/contrast_factor|0.0       |0.0                 \n",
      "image_block_1/res_net_block_1/trainable|True      |True                \n",
      "\n",
      "Epoch 1/10\n",
      "64/64 [==============================] - 461s 7s/step - loss: 1.2421 - accuracy: 0.5254 - val_loss: 2.1129 - val_accuracy: 0.0128\n",
      "Epoch 2/10\n",
      "64/64 [==============================] - 460s 7s/step - loss: 1.1150 - accuracy: 0.7290 - val_loss: 1.9911 - val_accuracy: 0.0128\n",
      "Epoch 3/10\n",
      "64/64 [==============================] - 460s 7s/step - loss: 1.0989 - accuracy: 0.7378 - val_loss: 2.0998 - val_accuracy: 0.0234\n",
      "Epoch 4/10\n",
      " 5/64 [=>............................] - ETA: 5:30 - loss: 3.0749 - accuracy: 0.0000e+00"
     ]
    },
    {
     "name": "stderr",
     "output_type": "stream",
     "text": [
      "IOPub message rate exceeded.\n",
      "The notebook server will temporarily stop sending output\n",
      "to the client in order to avoid crashing it.\n",
      "To change this limit, set the config variable\n",
      "`--NotebookApp.iopub_msg_rate_limit`.\n",
      "\n",
      "Current values:\n",
      "NotebookApp.iopub_msg_rate_limit=1000.0 (msgs/sec)\n",
      "NotebookApp.rate_limit_window=3.0 (secs)\n",
      "\n"
     ]
    }
   ],
   "source": [
    "# Initialize the image classifier.\n",
    "clf = ak.ImageClassifier(\n",
    "    overwrite=True,\n",
    "    max_trials=10)\n",
    "# Feed the image classifier with training data.\n",
    "clf.fit(X_train, Y_train, epochs=10)\n",
    "\n",
    "# Predict with the best model.\n",
    "predicted_y = clf.predict(X_test)\n",
    "print(predicted_y)\n",
    "\n",
    "# Evaluate the best model with testing data.\n",
    "print(clf.evaluate(X_test, Y_test))"
   ]
  },
  {
   "cell_type": "code",
   "execution_count": 4,
   "metadata": {},
   "outputs": [
    {
     "name": "stdout",
     "output_type": "stream",
     "text": [
      "WARNING:tensorflow:Unresolved object in checkpoint: (root).optimizer.iter\n",
      "WARNING:tensorflow:Unresolved object in checkpoint: (root).optimizer.beta_1\n",
      "WARNING:tensorflow:Unresolved object in checkpoint: (root).optimizer.beta_2\n",
      "WARNING:tensorflow:Unresolved object in checkpoint: (root).optimizer.decay\n",
      "WARNING:tensorflow:Unresolved object in checkpoint: (root).optimizer.learning_rate\n",
      "WARNING:tensorflow:A checkpoint was restored (e.g. tf.train.Checkpoint.restore or tf.keras.Model.load_weights) but not all checkpointed values were used. See above for specific issues. Use expect_partial() on the load status object, e.g. tf.train.Checkpoint.restore(...).expect_partial(), to silence these warnings, or use assert_consumed() to make the check explicit. See https://www.tensorflow.org/guide/checkpoint#loading_mechanics for details.\n"
     ]
    }
   ],
   "source": [
    "model = clf.export_model()"
   ]
  },
  {
   "cell_type": "code",
   "execution_count": 5,
   "metadata": {},
   "outputs": [],
   "source": [
    "#model\n",
    "model.save(\"model_autokeras_magtrain.h5\")"
   ]
  },
  {
   "cell_type": "code",
   "execution_count": 6,
   "metadata": {},
   "outputs": [
    {
     "name": "stdout",
     "output_type": "stream",
     "text": [
      "WARNING:tensorflow:Error in loading the saved optimizer state. As a result, your model is starting with a freshly initialized optimizer.\n",
      "WARNING:tensorflow:Unresolved object in checkpoint: (root).optimizer.iter\n",
      "WARNING:tensorflow:Unresolved object in checkpoint: (root).optimizer.beta_1\n",
      "WARNING:tensorflow:Unresolved object in checkpoint: (root).optimizer.beta_2\n",
      "WARNING:tensorflow:Unresolved object in checkpoint: (root).optimizer.decay\n",
      "WARNING:tensorflow:Unresolved object in checkpoint: (root).optimizer.learning_rate\n",
      "WARNING:tensorflow:A checkpoint was restored (e.g. tf.train.Checkpoint.restore or tf.keras.Model.load_weights) but not all checkpointed values were used. See above for specific issues. Use expect_partial() on the load status object, e.g. tf.train.Checkpoint.restore(...).expect_partial(), to silence these warnings, or use assert_consumed() to make the check explicit. See https://www.tensorflow.org/guide/checkpoint#loading_mechanics for details.\n"
     ]
    }
   ],
   "source": [
    "model=keras.models.load_model(\"model_autokeras_magtrain.h5\")"
   ]
  },
  {
   "cell_type": "code",
   "execution_count": 6,
   "metadata": {},
   "outputs": [
    {
     "name": "stdout",
     "output_type": "stream",
     "text": [
      "Model: \"functional_1\"\n",
      "____________________________________________________________________________________________________\n",
      "Layer (type)                                 Output Shape                            Param #        \n",
      "====================================================================================================\n",
      "input_1 (InputLayer)                         [(None, 128, 128, 3)]                   0              \n",
      "____________________________________________________________________________________________________\n",
      "normalization (Normalization)                (None, 128, 128, 3)                     7              \n",
      "____________________________________________________________________________________________________\n",
      "random_translation (RandomTranslation)       (None, 128, 128, 3)                     0              \n",
      "____________________________________________________________________________________________________\n",
      "random_flip (RandomFlip)                     (None, 128, 128, 3)                     0              \n",
      "____________________________________________________________________________________________________\n",
      "resizing (Resizing)                          (None, 224, 224, 3)                     0              \n",
      "____________________________________________________________________________________________________\n",
      "resnet50 (Functional)                        (None, None, None, 2048)                23587712       \n",
      "____________________________________________________________________________________________________\n",
      "global_average_pooling2d (GlobalAveragePooli (None, 2048)                            0              \n",
      "____________________________________________________________________________________________________\n",
      "dense (Dense)                                (None, 6)                               12294          \n",
      "____________________________________________________________________________________________________\n",
      "classification_head_1 (Softmax)              (None, 6)                               0              \n",
      "====================================================================================================\n",
      "Total params: 23,600,013\n",
      "Trainable params: 23,546,886\n",
      "Non-trainable params: 53,127\n",
      "____________________________________________________________________________________________________\n"
     ]
    }
   ],
   "source": [
    "model.summary(100)"
   ]
  },
  {
   "cell_type": "code",
   "execution_count": 8,
   "metadata": {},
   "outputs": [
    {
     "name": "stdout",
     "output_type": "stream",
     "text": [
      "WARNING:tensorflow:From /home/dharaniprabhu/anaconda3/envs/ak2/lib/python3.6/site-packages/tensorflow/python/training/tracking/tracking.py:111: Model.state_updates (from tensorflow.python.keras.engine.training) is deprecated and will be removed in a future version.\n",
      "Instructions for updating:\n",
      "This property should not be used in TensorFlow 2.0, as updates are applied automatically.\n",
      "WARNING:tensorflow:From /home/dharaniprabhu/anaconda3/envs/ak2/lib/python3.6/site-packages/tensorflow/python/training/tracking/tracking.py:111: Layer.updates (from tensorflow.python.keras.engine.base_layer) is deprecated and will be removed in a future version.\n",
      "Instructions for updating:\n",
      "This property should not be used in TensorFlow 2.0, as updates are applied automatically.\n",
      "INFO:tensorflow:Assets written to: model_autokeras/assets\n"
     ]
    }
   ],
   "source": [
    "try:\n",
    "    model.save(\"model_autokeras\", save_format=\"tf\")\n",
    "except:\n",
    "    model.save(\"model_autokeras.h5\")\n"
   ]
  },
  {
   "cell_type": "code",
   "execution_count": 11,
   "metadata": {},
   "outputs": [
    {
     "name": "stdout",
     "output_type": "stream",
     "text": [
      "[[3.5592262e-02 4.8086382e-03 5.8584084e-04 3.3004687e-04 9.3967873e-01\n",
      "  1.9004505e-02]\n",
      " [1.7515214e-02 2.1928538e-02 1.4621833e-02 1.3828835e-03 8.7197465e-01\n",
      "  7.2576858e-02]\n",
      " [6.9361806e-02 9.3843965e-03 1.6748859e-02 1.5692002e-04 8.5828120e-01\n",
      "  4.6066787e-02]\n",
      " ...\n",
      " [2.1882723e-03 7.1585015e-03 1.7117480e-02 1.2428820e-04 9.3521976e-01\n",
      "  3.8191747e-02]\n",
      " [1.1451409e-02 3.2205187e-02 4.2341961e-04 6.1835221e-05 9.4062209e-01\n",
      "  1.5236021e-02]\n",
      " [9.5045110e-03 1.7608872e-02 4.4696368e-03 9.8745222e-04 9.3538880e-01\n",
      "  3.2040749e-02]]\n"
     ]
    }
   ],
   "source": [
    "from tensorflow.keras.models import load_model\n",
    "\n",
    "loaded_model = load_model(\"model_autokeras\", custom_objects=ak.CUSTOM_OBJECTS)\n",
    "\n",
    "predicted_y = loaded_model.predict(tf.expand_dims(X_test, -1))\n",
    "print(predicted_y)"
   ]
  },
  {
   "cell_type": "code",
   "execution_count": null,
   "metadata": {},
   "outputs": [],
   "source": []
  }
 ],
 "metadata": {
  "kernelspec": {
   "display_name": "Python 3",
   "language": "python",
   "name": "python3"
  },
  "language_info": {
   "codemirror_mode": {
    "name": "ipython",
    "version": 3
   },
   "file_extension": ".py",
   "mimetype": "text/x-python",
   "name": "python",
   "nbconvert_exporter": "python",
   "pygments_lexer": "ipython3",
   "version": "3.8.8"
  }
 },
 "nbformat": 4,
 "nbformat_minor": 4
}
